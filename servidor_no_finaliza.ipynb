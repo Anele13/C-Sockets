{
 "cells": [
  {
   "cell_type": "markdown",
   "metadata": {},
   "source": [
    "# Trabajo práctico 1\n",
    "## Alumnos\n",
    "\n",
    "* Garibaldi Anele\n",
    "* Vergara Marcos"
   ]
  },
  {
   "cell_type": "markdown",
   "metadata": {},
   "source": [
    "### Enunciado con respuesta escrita"
   ]
  },
  {
   "cell_type": "markdown",
   "metadata": {},
   "source": [
    "2) Modifique el servidor original para que no finalice."
   ]
  },
  {
   "cell_type": "markdown",
   "metadata": {},
   "source": [
    "### Enunciado con respuesta escrita"
   ]
  },
  {
   "cell_type": "code",
   "execution_count": null,
   "metadata": {},
   "outputs": [
    {
     "name": "stderr",
     "output_type": "stream",
     "text": [
      "/tmp/tmpobwyo_om.c: In function ‘main’:\n",
      "/tmp/tmpobwyo_om.c:36:4: warning: implicit declaration of function ‘bzero’ [-Wimplicit-function-declaration]\n",
      "    bzero((char *) &direcc, sizeof(direcc));\n",
      "    ^~~~~\n"
     ]
    }
   ],
   "source": [
    "#include <sys/types.h>\n",
    "#include <sys/socket.h>\n",
    "#include <netinet/in.h>\n",
    "#include <string.h>\n",
    "#include <stdlib.h>\n",
    "#include <stdio.h>\n",
    "#include <fcntl.h> // for open\n",
    "#include <unistd.h> // for close\n",
    "#include <unistd.h>\n",
    "#define PORTNUMBER  12345\n",
    "#define TRUE 1\n",
    "#define MAX_CONNECTIONS 5\n",
    "\n",
    "\n",
    "int main(void){\n",
    "   /*\n",
    "   Socket TCP v1.0 Garibaldi Anele, Vergara Marcos.\n",
    "   Notas de proyecto:\n",
    "\n",
    "   Socket:\n",
    "   - socket(&direcc, sizeof(direcc), 0): el tercer parametro es protocolo utilizado si pones 0 lo identifica automaticamente.\n",
    "   - bzero(&direcc, sizeof(direcc)):setea la variable direcc a 0. al ser una Struct se utiliza esta funcion pero está DEPRECATED. Uso memset() que hace lo mismo pero lleva un 0 como tercer parametro si queres setear todos los valores de la Struct a 0.\n",
    "   \n",
    "   Direcc:\n",
    "   - sin_family = AF_INET le dice al socket que los clientes pueden estar dentro o fuera de la misma maquina del server. La comunicacion es por red o interna, en este caso es RED. sino es AF_UNIX para socket entre procesos\n",
    "   - sin_addr.s_addr = INADDR_ANY es la dirección del cliente al que queremos atender. Poniendo en ese campo INADDR_ANY, atendemos a cualquier cliente.\n",
    "   - sin_port = Es el puerto en el que el socket está escuchando conecciones. En este caso el puerto es 12345\n",
    "   */\n",
    "\n",
    "   int s;\n",
    "   struct sockaddr_in direcc;\n",
    "   char buf[10];\n",
    "   int n, ns;\n",
    "\n",
    "   s = socket(AF_INET, SOCK_STREAM, 0);\n",
    "   bzero((char *) &direcc, sizeof(direcc));\n",
    "   direcc.sin_family = AF_INET;\n",
    "   direcc.sin_port = htons(PORTNUMBER);\n",
    "   direcc.sin_addr.s_addr = htonl(INADDR_ANY);\n",
    "\n",
    "   int len = sizeof(struct sockaddr_in);\n",
    "\n",
    "   bind(s, (struct sockaddr *) &direcc, len);\n",
    "   listen(s, MAX_CONNECTIONS);\n",
    "   while(TRUE){\n",
    "      ns = accept(s, (struct sockaddr *) &direcc, &len);\n",
    "      while ((n = recv(ns, buf, sizeof(buf), 0)) > 0)\n",
    "         write(1, buf, n);\n",
    "      close(ns);\n",
    "   }\n",
    "   close(s);\n",
    "   exit(0);\n",
    "}"
   ]
  },
  {
   "cell_type": "code",
   "execution_count": null,
   "metadata": {},
   "outputs": [],
   "source": []
  }
 ],
 "metadata": {
  "kernelspec": {
   "display_name": "C",
   "language": "c",
   "name": "c_spec"
  },
  "language_info": {
   "file_extension": ".c",
   "mimetype": "text/plain",
   "name": "c"
  }
 },
 "nbformat": 4,
 "nbformat_minor": 2
}
