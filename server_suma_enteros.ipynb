{
 "cells": [
  {
   "cell_type": "markdown",
   "metadata": {},
   "source": [
    "# Trabajo práctico 1\n",
    "## Alumnos\n",
    "\n",
    "* Garibaldi Anele\n",
    "* Vergara Marcos"
   ]
  },
  {
   "cell_type": "markdown",
   "metadata": {},
   "source": [
    "### Enunciado con respuesta escrita"
   ]
  },
  {
   "cell_type": "markdown",
   "metadata": {},
   "source": [
    "7) Modificar el Servidor original para que cambie el servicio por uno que devuelva la suma de dos parámetros enteros o una leyenda de error en parámetros si estos no son enteros."
   ]
  },
  {
   "cell_type": "markdown",
   "metadata": {},
   "source": [
    "### Enunciado con respuesta codificada"
   ]
  },
  {
   "cell_type": "code",
   "execution_count": null,
   "metadata": {},
   "outputs": [],
   "source": [
    "#include <sys/types.h>\n",
    "#include <sys/socket.h>\n",
    "#include <netinet/in.h>\n",
    "#include <string.h>\n",
    "#include <stdlib.h>\n",
    "#include <stdio.h>\n",
    "#include <unistd.h>\n",
    "#define PORTNUMBER 12345\n",
    "#define MAX_BUFFER 256\n",
    "#define MAX_MSJ_ERROR 256\n",
    "#define FORMATO_ENTRADA \"%d %d\\n\"\n",
    "#define TRUE 1\n",
    "#define MSJ_ERROR \"La cadena recibida no se corresponde con dos numeros enteros\\nPor favor, utilice el siguiente formato: num1 num2\\n\"\n",
    "\n",
    "\n",
    "int atender_cliente( int s );\n",
    " \n",
    "int main( void ) {\n",
    "    int s;\n",
    "    struct sockaddr_in direcc;\n",
    "    s = socket(AF_INET, SOCK_STREAM, 0);\n",
    "    bzero((char *) &direcc, sizeof(direcc));\n",
    "    direcc.sin_family = AF_INET;\n",
    "    direcc.sin_port = htons(PORTNUMBER);\n",
    "    direcc.sin_addr.s_addr = htonl(INADDR_ANY);\n",
    "   \n",
    "    bind( s, (struct sockaddr *) &direcc, sizeof(struct sockaddr_in) );\n",
    "    listen(s, 5);\n",
    "    \n",
    "    while(TRUE) {\n",
    "        atender_cliente( s );\n",
    "    }\n",
    "    close(s);\n",
    "    exit(0);\n",
    "}\n",
    "\n",
    "\n",
    "int atender_cliente( int servidor ) {\n",
    "    struct sockaddr_in direccionCliente;\n",
    "    char bufferEntrada[MAX_BUFFER];\n",
    "    char bufferSalida[MAX_BUFFER];\n",
    "    int lenDirCliente = sizeof( direccionCliente ), cliente, num1, num2; \n",
    "    \n",
    "    cliente = accept( servidor, ( struct sockaddr * ) &direccionCliente, &lenDirCliente );\n",
    "    \n",
    "    bzero( bufferEntrada, MAX_BUFFER );\n",
    "    bzero( bufferSalida, MAX_BUFFER );\n",
    "    \n",
    "    while( recv( cliente, bufferEntrada, MAX_BUFFER, 0 ) > 0 ) {\n",
    "        \n",
    "        if( ( sscanf( bufferEntrada, FORMATO_ENTRADA, &num1, &num2 ) ) != 2 )\n",
    "            snprintf( bufferSalida, MAX_BUFFER, \"%s\", MSJ_ERROR );\n",
    "        else\n",
    "            snprintf( bufferSalida, MAX_BUFFER, \"La suma de %d y %d es %d\\n\", num1, num2, num1 + num2 );  \n",
    "        send( cliente, bufferSalida, MAX_BUFFER, 0 );\n",
    "        bzero( bufferEntrada, MAX_BUFFER );\n",
    "        bzero( bufferSalida, MAX_BUFFER );\n",
    "    }  \n",
    "    close( cliente );\n",
    "}"
   ]
  },
  {
   "cell_type": "code",
   "execution_count": null,
   "metadata": {},
   "outputs": [],
   "source": []
  }
 ],
 "metadata": {
  "kernelspec": {
   "display_name": "C",
   "language": "c",
   "name": "c_spec"
  },
  "language_info": {
   "file_extension": ".c",
   "mimetype": "text/plain",
   "name": "c"
  }
 },
 "nbformat": 4,
 "nbformat_minor": 2
}
