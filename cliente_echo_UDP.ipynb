{
 "cells": [
  {
   "cell_type": "markdown",
   "metadata": {},
   "source": [
    "# Trabajo práctico 1\n",
    "## Alumnos\n",
    "\n",
    "* Garibaldi Anele\n",
    "* Vergara Marcos"
   ]
  },
  {
   "cell_type": "markdown",
   "metadata": {},
   "source": [
    "### Enunciado con respuesta escrita"
   ]
  },
  {
   "cell_type": "markdown",
   "metadata": {},
   "source": [
    "8) Crear un cliente UDP que se comunique con el servidor ECHO UDP."
   ]
  },
  {
   "cell_type": "markdown",
   "metadata": {},
   "source": [
    "### Enunciado con respuesta codificada"
   ]
  },
  {
   "cell_type": "code",
   "execution_count": null,
   "metadata": {},
   "outputs": [],
   "source": [
    "#include <stdio.h> \n",
    "#include <stdlib.h> \n",
    "#include <unistd.h> \n",
    "#include <string.h> \n",
    "#include <sys/types.h> \n",
    "#include <sys/socket.h> \n",
    "#include <arpa/inet.h> \n",
    "#include <netinet/in.h> \n",
    "#define PORT     12345 \n",
    "#define MAXLINE 1024\n",
    "#define MAX_ENTRADA 30\n",
    "\n",
    "void echo(const struct sockaddr_in servaddr, int sockfd ){\n",
    "    /*\n",
    "    Encargada de pedirle parametros al usuario, enviarlos al socket y este los devuelve al cliente nuevamente.(Funcion ECHO)\n",
    "    */\n",
    "    char entrada[MAX_ENTRADA];\n",
    "    int n, len;\n",
    "    char buffer[MAXLINE];\n",
    "    while(1){\n",
    "        fgets(entrada, MAX_ENTRADA, stdin); //agrega \\n al final de la cadena ingresada\n",
    "        sendto(sockfd, (const char *)entrada, strlen(entrada), MSG_CONFIRM, (const struct sockaddr *) &servaddr, sizeof(servaddr)); \n",
    "        n = recvfrom(sockfd, (char *)buffer, MAXLINE,MSG_WAITALL, (struct sockaddr *) &servaddr,&len);\n",
    "        buffer[n] = '\\0'; \n",
    "        printf(\"%s\",buffer);\n",
    "\n",
    "    }\n",
    "}\n",
    "\n",
    "int main() {\n",
    "    /*\n",
    "    Cliente UDP\n",
    "    */\n",
    "    int sockfd; \n",
    "    struct sockaddr_in servaddr;\n",
    "    if ( (sockfd = socket(AF_INET, SOCK_DGRAM, 0)) < 0 ) { \n",
    "        perror(\"Fallo en la creacion del socket cliente.\"); \n",
    "        exit(EXIT_FAILURE); \n",
    "    } \n",
    "    memset(&servaddr, 0, sizeof(servaddr)); \n",
    "    servaddr.sin_family = AF_INET; \n",
    "    servaddr.sin_port = htons(PORT); \n",
    "    servaddr.sin_addr.s_addr = INADDR_ANY; \n",
    "    echo(servaddr, sockfd);\n",
    "    close(sockfd); \n",
    "    return 0; \n",
    "} "
   ]
  },
  {
   "cell_type": "code",
   "execution_count": null,
   "metadata": {},
   "outputs": [],
   "source": []
  }
 ],
 "metadata": {
  "kernelspec": {
   "display_name": "C",
   "language": "c",
   "name": "c_spec"
  },
  "language_info": {
   "file_extension": ".c",
   "mimetype": "text/plain",
   "name": "c"
  }
 },
 "nbformat": 4,
 "nbformat_minor": 2
}
