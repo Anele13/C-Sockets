{
 "cells": [
  {
   "cell_type": "markdown",
   "metadata": {},
   "source": [
    "# Trabajo práctico 1\n",
    "## Alumnos\n",
    "\n",
    "* Garibaldi Anele\n",
    "* Vergara Marcos"
   ]
  },
  {
   "cell_type": "markdown",
   "metadata": {},
   "source": [
    "### Enunciado con respuesta escrita"
   ]
  },
  {
   "cell_type": "markdown",
   "metadata": {},
   "source": [
    "7) Cliente que se comunica con socket que suma parametros enteros y devuelve el resultado o mensaje de error en caso de parametros erroneos."
   ]
  },
  {
   "cell_type": "markdown",
   "metadata": {},
   "source": [
    "### Enunciado con respuesta codificada"
   ]
  },
  {
   "cell_type": "code",
   "execution_count": 2,
   "metadata": {},
   "outputs": [
    {
     "name": "stderr",
     "output_type": "stream",
     "text": [
      "/tmp/tmptmedw8mu.c: In function ‘main’:\n",
      "/tmp/tmptmedw8mu.c:29:5: warning: implicit declaration of function ‘bzero’ [-Wimplicit-function-declaration]\n",
      "     bzero( ( char * ) &direccionServidor, sizeof( direccionServidor ) );\n",
      "     ^~~~~\n",
      "ERROR: No se pudo establecer conexión con el servidor.\n",
      ": Connection refused\n",
      "[C kernel] Executable exited with code 255"
     ]
    }
   ],
   "source": [
    "#include <stdio.h>\n",
    "#include <stdlib.h>\n",
    "#include <string.h>\n",
    "#include <unistd.h>\n",
    "#include <sys/types.h>\n",
    "#include <arpa/inet.h>\n",
    "#include <sys/socket.h>\n",
    "\n",
    "#define IP \"127.0.0.1\"\n",
    "#define PUERTO 12345\n",
    "#define MAX_BUFFER 256\n",
    "#define FIN_CONEXION \"--quit\\n\"\n",
    "#define TRUE 1\n",
    "#define FALSE 0\n",
    "\n",
    "\n",
    "void msj_error( char * );\n",
    "\n",
    "int main( int argc, char *argv[] ) {\n",
    "    int mantenerConexion = TRUE,\n",
    "        sockfd;\n",
    "    struct sockaddr_in direccionServidor;\n",
    "    char bufferEntrada[MAX_BUFFER],\n",
    "         bufferSalida[MAX_BUFFER];\n",
    "\n",
    "    if( ( sockfd = socket( AF_INET, SOCK_STREAM, 0 ) ) == -1 )\n",
    "        msj_error( \"ERROR: No se pudo crear el socket\\n\");\n",
    "\n",
    "    bzero( ( char * ) &direccionServidor, sizeof( direccionServidor ) );\n",
    "    direccionServidor.sin_family = AF_INET;\n",
    "    direccionServidor.sin_port = htons( PUERTO );\n",
    "    direccionServidor.sin_addr.s_addr = inet_addr( IP );\n",
    "\n",
    "    if( ( connect( sockfd, ( struct sockaddr * ) &direccionServidor, sizeof( direccionServidor ) ) ) == -1 )\n",
    "        msj_error( \"ERROR: No se pudo establecer conexión con el servidor.\\n\" );\n",
    "\n",
    "    bzero( bufferSalida, MAX_BUFFER );\n",
    "    printf( \"Para terminar conexión escriba: %s\", FIN_CONEXION );\n",
    "\n",
    "\n",
    "    while ( mantenerConexion ) {\n",
    "\n",
    "        // guardo el contenido de la entrada estandar para luego enviarlo al servidor\n",
    "        fgets( bufferSalida, MAX_BUFFER, stdin );\n",
    "\n",
    "        // quiere finalizar la conexion?\n",
    "        mantenerConexion = strcmp( bufferSalida, FIN_CONEXION ) == 0 ? FALSE: TRUE;\n",
    "\n",
    "        // Si el cliente quiere continuar conexión\n",
    "        if( mantenerConexion ) {\n",
    "\n",
    "            if( ( send( sockfd, bufferSalida, strlen( bufferSalida ) + 1, 0 ) ) < 0 )\n",
    "                msj_error( \"ERROR: No se pudo enviar el mensaje al servidor.\\n\" );\n",
    "\n",
    "            if( ( recv( sockfd, bufferEntrada, MAX_BUFFER, 0) ) < 0 )\n",
    "                msj_error( \"ERROR: No se pudo recibir el mensaje del servidor.\\n\" );\n",
    "\n",
    "            //Muestro el mensaje que recibo del servidor\n",
    "            write( 1, bufferEntrada, strlen( bufferEntrada) + 1 );\n",
    "\n",
    "            bzero( bufferEntrada, MAX_BUFFER );\n",
    "            bzero( bufferSalida, MAX_BUFFER );\n",
    "        }\n",
    "\n",
    "    }\n",
    "\n",
    "    close( sockfd );\n",
    "    return 0;\n",
    "}\n",
    "\n",
    "void msj_error( char *msj ) {\n",
    "    perror( msj );\n",
    "    exit( -1 );\n",
    "}"
   ]
  },
  {
   "cell_type": "code",
   "execution_count": null,
   "metadata": {},
   "outputs": [],
   "source": []
  }
 ],
 "metadata": {
  "kernelspec": {
   "display_name": "C",
   "language": "c",
   "name": "c_spec"
  },
  "language_info": {
   "file_extension": ".c",
   "mimetype": "text/plain",
   "name": "c"
  }
 },
 "nbformat": 4,
 "nbformat_minor": 2
}
