{
 "cells": [
  {
   "cell_type": "markdown",
   "metadata": {},
   "source": [
    "# Trabajo práctico 1\n",
    "## Alumnos\n",
    "\n",
    "* Garibaldi Anele\n",
    "* Vergara Marcos"
   ]
  },
  {
   "cell_type": "markdown",
   "metadata": {},
   "source": [
    "### Enunciado con respuesta escrita"
   ]
  },
  {
   "cell_type": "markdown",
   "metadata": {},
   "source": [
    "5) Modifique el servidor para que preste el servicio de **echo (vea RFC862)**."
   ]
  },
  {
   "cell_type": "markdown",
   "metadata": {},
   "source": [
    "### Enunciado con respuesta codificada"
   ]
  },
  {
   "cell_type": "code",
   "execution_count": null,
   "metadata": {},
   "outputs": [],
   "source": [
    "#include <sys/types.h>\n",
    "#include <sys/socket.h>\n",
    "#include <netinet/in.h>\n",
    "#include <string.h>\n",
    "#include <stdlib.h>\n",
    "#include <stdio.h>\n",
    "#include <fcntl.h> // for open\n",
    "#include <unistd.h> // for close\n",
    "#include <unistd.h>\n",
    "#define PORTNUMBER  12345\n",
    "\n",
    "\n",
    "int siguienteCaracter(char caracter){\n",
    "    /*\n",
    "    Devuelve el siguiente caracter de la secuencia RFC_864\n",
    "    */\n",
    "    return caracter > 126? 33 : caracter + 1;\n",
    "}\n",
    "\n",
    "\n",
    "void RFC_864(int ns){\n",
    "    /*\n",
    "    Genera caracteres segun la norma RFC_864\n",
    "    */\n",
    "    int i;\n",
    "    char caracter;\n",
    "    char salto = '\\n';\n",
    "    int inicio_cadena = 32;\n",
    "    while(1){\n",
    "        inicio_cadena = siguienteCaracter(inicio_cadena);\n",
    "        caracter = inicio_cadena;\n",
    "        for(i = 0; i < 72; i++){\n",
    "            write(ns, &caracter, 1);\n",
    "            caracter=siguienteCaracter(caracter);\n",
    "        };\n",
    "        write(ns, &salto, 1);\n",
    "    }\n",
    "}\n",
    "\n",
    "\n",
    "void serve_conections(int s, struct sockaddr_in direcc){\n",
    "    /*\n",
    "    bind(): Se encarga de conectar al socket en un puerto determinado.\n",
    "    listen(): Escucha x cantidad de conecciones del socket indicado.\n",
    "    accept(): Por último la función accept que nos servirá para estar a la escucha y permitir que algún cliente se conecte tras utilizar la función connect();\n",
    "    recv(): Permite recibir datos en un socket por parte de un cliente.\n",
    "    write(): Escribe n bytes del buffer en la salida estandar del file descriptor proporcionado. \n",
    "    close(): Cierra la coneccion del socket.\n",
    "    */\n",
    "    char buf[10];\n",
    "    int n, ns, len;\n",
    "    len = sizeof(struct sockaddr_in);\n",
    "    bind(s, (struct sockaddr *) &direcc, len);\n",
    "    listen(s, 5);\n",
    "    while(1){\n",
    "        ns = accept(s, (struct sockaddr *) &direcc, &len);\n",
    "        RFC_864(ns);\n",
    "        close(ns);\n",
    "    }\n",
    "}\n",
    "\n",
    "\n",
    "int main(void){\n",
    "    /*\n",
    "   Socket TCP v1.0 Garibaldi Anele, Vergara Marcos.\n",
    "   Notas de proyecto:\n",
    "\n",
    "   Socket:\n",
    "   - socket(&direcc, sizeof(direcc), 0): el tercer parametro es protocolo utilizado si pones 0 lo identifica automaticamente.\n",
    "   - bzero(&direcc, sizeof(direcc)):setea la variable direcc a 0. al ser una Struct se utiliza esta funcion pero está DEPRECATED. Uso memset() que hace lo mismo pero lleva un 0 como tercer parametro si queres setear todos los valores de la Struct a 0.\n",
    "   \n",
    "   Direcc:\n",
    "   - sin_family = AF_INET le dice al socket que los clientes pueden estar dentro o fuera de la misma maquina del server. La comunicacion es por red o interna, en este caso es RED. sino es AF_UNIX para socket entre procesos\n",
    "   - sin_addr.s_addr = INADDR_ANY es la dirección del cliente al que queremos atender. Poniendo en ese campo INADDR_ANY, atendemos a cualquier cliente.\n",
    "   - sin_port = Es el puerto en el que el socket está escuchando conecciones. En este caso el puerto es 12345\n",
    "   */\n",
    "   int s;\n",
    "   struct sockaddr_in direcc;\n",
    "   s = socket(AF_INET, SOCK_STREAM, 0);\n",
    "   //bzero((char *) &direcc, sizeof(direcc));\n",
    "   memset(&direcc, 0, sizeof(direcc));\n",
    "   direcc.sin_family = AF_INET;\n",
    "   direcc.sin_port = htons(PORTNUMBER);\n",
    "   direcc.sin_addr.s_addr = htonl(INADDR_ANY);\n",
    "\n",
    "   serve_conections(s,direcc);\n",
    "   close(s);\n",
    "   exit(0);\n",
    "}"
   ]
  }
 ],
 "metadata": {
  "kernelspec": {
   "display_name": "C",
   "language": "c",
   "name": "c_spec"
  },
  "language_info": {
   "file_extension": ".c",
   "mimetype": "text/plain",
   "name": "c"
  }
 },
 "nbformat": 4,
 "nbformat_minor": 2
}
