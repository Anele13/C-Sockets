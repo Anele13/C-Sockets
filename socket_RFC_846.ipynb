{
 "cells": [
  {
   "cell_type": "code",
   "execution_count": 1,
   "metadata": {},
   "outputs": [
    {
     "name": "stderr",
     "output_type": "stream",
     "text": [
      "[C kernel] Executable exited with code -13"
     ]
    }
   ],
   "source": [
    "#include <sys/types.h>\n",
    "#include <sys/socket.h>\n",
    "#include <netinet/in.h>\n",
    "#include <string.h>\n",
    "#include <stdlib.h>\n",
    "#include <stdio.h>\n",
    "#include <fcntl.h> // for open\n",
    "#include <unistd.h> // for close\n",
    "#include <unistd.h>\n",
    "#define PORTNUMBER  12345\n",
    "\n",
    "\n",
    "int siguienteCaracter(char caracter){\n",
    "  return caracter > 126? 33 : caracter + 1;\n",
    "}\n",
    "\n",
    "\n",
    "void RFC_864(int ns){\n",
    "  int i;\n",
    "  char caracter;\n",
    "  char salto = '\\n';\n",
    "  int inicio_cadena = 32;\n",
    "    \n",
    "  while(1){\n",
    "    inicio_cadena = siguienteCaracter(inicio_cadena);\n",
    "    caracter = inicio_cadena;\n",
    "    for(i = 0; i < 72; i++){\n",
    "        write(ns, &caracter, 1);\n",
    "        caracter=siguienteCaracter(caracter);\n",
    "    };\n",
    "    write(ns, &salto, 1);\n",
    "  }\n",
    "}\n",
    "\n",
    "\n",
    "void serve_conections(int s, struct sockaddr_in direcc){\n",
    "  char buf[10];\n",
    "  int n, ns, len;\n",
    "\n",
    "  len = sizeof(struct sockaddr_in);\n",
    "  bind(s, (struct sockaddr *) &direcc, len);\n",
    "  listen(s, 5);\n",
    "  while(1){\n",
    "      ns = accept(s, (struct sockaddr *) &direcc, &len);\n",
    "      RFC_864(ns);\n",
    "      close(ns);\n",
    "   }\n",
    "}\n",
    "\n",
    "\n",
    "int main(void){\n",
    "   int s;\n",
    "   struct sockaddr_in direcc;\n",
    "   s = socket(AF_INET, SOCK_STREAM, 0);\n",
    "   //bzero((char *) &direcc, sizeof(direcc));\n",
    "   memset(&direcc, 0, sizeof(direcc));\n",
    "   direcc.sin_family = AF_INET;\n",
    "   direcc.sin_port = htons(PORTNUMBER);\n",
    "   direcc.sin_addr.s_addr = htonl(INADDR_ANY);\n",
    "\n",
    "   serve_conections(s,direcc);\n",
    "   close(s);\n",
    "   exit(0);\n",
    "}"
   ]
  },
  {
   "cell_type": "code",
   "execution_count": null,
   "metadata": {},
   "outputs": [],
   "source": []
  }
 ],
 "metadata": {
  "kernelspec": {
   "display_name": "C",
   "language": "c",
   "name": "c_spec"
  },
  "language_info": {
   "file_extension": ".c",
   "mimetype": "text/plain",
   "name": "c"
  }
 },
 "nbformat": 4,
 "nbformat_minor": 2
}
