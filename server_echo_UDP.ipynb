{
 "cells": [
  {
   "cell_type": "code",
   "execution_count": null,
   "metadata": {},
   "outputs": [],
   "source": [
    "// Servidor UDP\n",
    "#include <stdio.h> \n",
    "#include <stdlib.h> \n",
    "#include <unistd.h> \n",
    "#include <string.h> \n",
    "#include <sys/types.h> \n",
    "#include <sys/socket.h> \n",
    "#include <arpa/inet.h> \n",
    "#include <netinet/in.h> \n",
    "#define PORT     12345 \n",
    "#define MAXLINE 1024 \n",
    "#include <time.h>\n",
    "  \n",
    "\n",
    "int main() { \n",
    "    int sockfd; \n",
    "    char buffer[MAXLINE]; \n",
    "    char *hello = \"Hola\"; \n",
    "    struct sockaddr_in ser_addr, cli_addr; \n",
    "    int len, n;\n",
    "      \n",
    "    // Creacion del socket\n",
    "    // SOCK_DGRAM (Datagrama) indica que tipo de socket es, en este caso es un socket NO orientado a la coneccion. Es un UDP, sino el parametro seria SOCK_STREAM\n",
    "    if ((sockfd = socket(AF_INET, SOCK_DGRAM, 0)) < 0 ) { \n",
    "        perror(\"Fallo de creacion de socket.\"); \n",
    "        exit(EXIT_FAILURE); \n",
    "    } \n",
    "      \n",
    "    memset(&ser_addr, 0, sizeof(ser_addr)); \n",
    "    memset(&cli_addr, 0, sizeof(cli_addr)); \n",
    "      \n",
    "    // Informacion del servidor\n",
    "    // AF_INET le dice al socket que los clientes pueden estar dentro o fuera de la misma maquina del server. La comunicacion es por red o interna, en este caso es RED. sino es AF_UNIX para socket entre procesos\n",
    "    // INADDR_ANY es la dirección del cliente al que queremos atender. Poniendo en ese campo INADDR_ANY, atendemos a cualquier cliente.\n",
    "    ser_addr.sin_family    = AF_INET; // IPv4 \n",
    "    ser_addr.sin_addr.s_addr = INADDR_ANY; \n",
    "    ser_addr.sin_port = htons(PORT); \n",
    "      \n",
    "    // Bindea socket con servidor \n",
    "    if ( bind(sockfd, (const struct sockaddr *)&ser_addr,sizeof(ser_addr)) < 0 ){ \n",
    "        perror(\"bind failed\"); \n",
    "        exit(EXIT_FAILURE); \n",
    "    } \n",
    "      \n",
    "    while(1){\n",
    "        n = recvfrom(sockfd, (char *)buffer, MAXLINE, MSG_WAITALL, ( struct sockaddr *) &cli_addr, &len); \n",
    "        buffer[n] = '\\0';\n",
    "        sendto(sockfd, (char *)buffer, strlen(buffer), MSG_CONFIRM, (const struct sockaddr *) &cli_addr, len); \n",
    "    }\n",
    "    return 0; \n",
    "} "
   ]
  }
 ],
 "metadata": {
  "kernelspec": {
   "display_name": "C",
   "language": "c",
   "name": "c_spec"
  },
  "language_info": {
   "file_extension": ".c",
   "mimetype": "text/plain",
   "name": "c"
  }
 },
 "nbformat": 4,
 "nbformat_minor": 2
}
